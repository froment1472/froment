{
 "cells": [
  {
   "cell_type": "markdown",
   "metadata": {},
   "source": [
    "# SEQUENCE 3 #\n",
    "## Séance 1 ##\n",
    "### Gambling School ###\n",
    "\n"
   ]
  },
  {
   "cell_type": "markdown",
   "metadata": {},
   "source": [
    "![image non chargée](images/gambling_school.jpg)"
   ]
  },
  {
   "cell_type": "markdown",
   "metadata": {},
   "source": [
    "**Refaire le jeu sous python**"
   ]
  },
  {
   "cell_type": "code",
   "execution_count": 2,
   "metadata": {},
   "outputs": [
    {
     "name": "stdout",
     "output_type": "stream",
     "text": [
      "Round 1 : B gagne\n",
      "Round 1 : A gagne\n",
      "Round 1 : B gagne\n"
     ]
    }
   ],
   "source": [
    "from random import randrange\n",
    "\n",
    "P=0\n",
    "F=1\n",
    "C=2\n",
    "\n",
    "nbP=10\n",
    "nbF=12\n",
    "nbC=5\n",
    "\n",
    "A0=0\n",
    "A1=0\n",
    "A2=2\n",
    "\n",
    "B0=1\n",
    "B1=2\n",
    "B2=0\n",
    "\n",
    "#test pour le round 1\n",
    "if A0==0:\n",
    "    if B0==0:\n",
    "        print(\"Round 1 : match nul\")\n",
    "    if B0==1:\n",
    "        print(\"Round 1 : B gagne\")\n",
    "    if B0==2:\n",
    "        print(\"Round 1 : A gagne\")\n",
    "\n",
    "#test pour le round 1       \n",
    "if A0==1:\n",
    "    if B0==0:\n",
    "        print(\"Round 1 : A gagne\")\n",
    "    if B0==1:\n",
    "        print(\"Round 1 : match nul\")\n",
    "    if B0==2:\n",
    "        print(\"Round 1 : B gagne\")\n",
    "   \n",
    "#test pour le round 1     \n",
    "if A0==2:\n",
    "    if B0==0:\n",
    "        print(\"Round 1 : B gagne\")\n",
    "    if B0==1:\n",
    "        print(\"Round 1 : A gagne\")\n",
    "    if B0==2:\n",
    "        print(\"Round 1 : match nul\")\n",
    "\n",
    "#test pour le round 2\n",
    "if A1==0:\n",
    "    if B1==0:\n",
    "        print(\"Round 1 : match nul\")\n",
    "    if B1==1:\n",
    "        print(\"Round 1 : B gagne\")\n",
    "    if B1==2:\n",
    "        print(\"Round 1 : A gagne\")\n",
    "\n",
    "#test pour le round 2       \n",
    "if A1==1:\n",
    "    if B1==0:\n",
    "        print(\"Round 1 : A gagne\")\n",
    "    if B1==1:\n",
    "        print(\"Round 1 : match nul\")\n",
    "    if B1==2:\n",
    "        print(\"Round 1 : B gagne\")\n",
    "   \n",
    "#test pour le round 2   \n",
    "if A1==2:\n",
    "    if B1==0:\n",
    "        print(\"Round 1 : B gagne\")\n",
    "    if B1==1:\n",
    "        print(\"Round 1 : A gagne\")\n",
    "    if B1==2:\n",
    "        print(\"Round 1 : match nul\")\n",
    "\n",
    "#test pour le round 3\n",
    "if A2==0:\n",
    "    if B2==0:\n",
    "        print(\"Round 1 : match nul\")\n",
    "    if B2==1:\n",
    "        print(\"Round 1 : B gagne\")\n",
    "    if B2==2:\n",
    "        print(\"Round 1 : A gagne\")\n",
    "\n",
    "#test pour le round 3      \n",
    "if A2==1:\n",
    "    if B2==0:\n",
    "        print(\"Round 1 : A gagne\")\n",
    "    if B2==1:\n",
    "        print(\"Round 1 : match nul\")\n",
    "    if B2==2:\n",
    "        print(\"Round 1 : B gagne\")\n",
    "   \n",
    "#test pour le round 3 \n",
    "if A2==2:\n",
    "    if B2==0:\n",
    "        print(\"Round 1 : B gagne\")\n",
    "    if B2==1:\n",
    "        print(\"Round 1 : A gagne\")\n",
    "    if B2==2:\n",
    "        print(\"Round 1 : match nul\")"
   ]
  },
  {
   "cell_type": "markdown",
   "metadata": {},
   "source": [
    "Création de l'urne à l'aide d'une liste random"
   ]
  },
  {
   "cell_type": "code",
   "execution_count": 5,
   "metadata": {},
   "outputs": [
    {
     "name": "stdout",
     "output_type": "stream",
     "text": [
      "[2, 1, 1, 2, 1, 0, 2, 2, 2, 2]\n"
     ]
    }
   ],
   "source": [
    "U=[]\n",
    "i = 0\n",
    "while i < 10:\n",
    "    a = randrange(0, 3)\n",
    "    U.append(a)\n",
    "    i+=1\n",
    "print(U)"
   ]
  }
 ],
 "metadata": {
  "kernelspec": {
   "display_name": "Python 3",
   "language": "python",
   "name": "python3"
  },
  "language_info": {
   "codemirror_mode": {
    "name": "ipython",
    "version": 3
   },
   "file_extension": ".py",
   "mimetype": "text/x-python",
   "name": "python",
   "nbconvert_exporter": "python",
   "pygments_lexer": "ipython3",
   "version": "3.7.4"
  }
 },
 "nbformat": 4,
 "nbformat_minor": 2
}
